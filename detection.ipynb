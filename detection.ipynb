{
  "nbformat": 4,
  "nbformat_minor": 0,
  "metadata": {
    "colab": {
      "name": "detection.ipynb",
      "provenance": [],
      "collapsed_sections": [],
      "toc_visible": true,
      "include_colab_link": true
    },
    "kernelspec": {
      "name": "python3",
      "display_name": "Python 3"
    }
  },
  "cells": [
    {
      "cell_type": "markdown",
      "metadata": {
        "id": "view-in-github",
        "colab_type": "text"
      },
      "source": [
        "<a href=\"https://colab.research.google.com/github/objectis/ai-pneumonia-detection/blob/master/detection.ipynb\" target=\"_parent\"><img src=\"https://colab.research.google.com/assets/colab-badge.svg\" alt=\"Open In Colab\"/></a>"
      ]
    },
    {
      "cell_type": "markdown",
      "metadata": {
        "id": "vNACCoGpUjmG",
        "colab_type": "text"
      },
      "source": [
        "#Importing images"
      ]
    },
    {
      "cell_type": "code",
      "metadata": {
        "id": "xjqlHtYUWPSJ",
        "colab_type": "code",
        "colab": {}
      },
      "source": [
        "import os\n",
        "import cv2\n",
        "import pickle\n",
        "import random\n",
        "import numpy as np\n",
        "import matplotlib.pyplot as plt"
      ],
      "execution_count": 0,
      "outputs": []
    },
    {
      "cell_type": "code",
      "metadata": {
        "id": "Hc73QWtlXu8O",
        "colab_type": "code",
        "colab": {
          "base_uri": "https://localhost:8080/",
          "height": 68
        },
        "outputId": "19069b6f-c526-47e9-9d0a-daf643805798"
      },
      "source": [
        "os.environ['KAGGLE_USERNAME'] = \"xxx\" \n",
        "os.environ['KAGGLE_KEY'] = \"xxx\" \n",
        "!kaggle datasets download -d paultimothymooney/chest-xray-pneumonia"
      ],
      "execution_count": 10,
      "outputs": [
        {
          "output_type": "stream",
          "text": [
            "Downloading chest-xray-pneumonia.zip to /content\n",
            "100% 1.15G/1.15G [00:09<00:00, 150MB/s]\n",
            "100% 1.15G/1.15G [00:09<00:00, 132MB/s]\n"
          ],
          "name": "stdout"
        }
      ]
    },
    {
      "cell_type": "markdown",
      "metadata": {
        "id": "uBlj4-usYVF_",
        "colab_type": "text"
      },
      "source": [
        "Extracting downloaded images"
      ]
    },
    {
      "cell_type": "code",
      "metadata": {
        "id": "edM6GoS_YQAO",
        "colab_type": "code",
        "colab": {}
      },
      "source": [
        "from zipfile import ZipFile\n",
        "\n",
        "zfile = ZipFile('chest_xray.zip', 'r')\n",
        "zfile.extractall()\n",
        "zfile.close()"
      ],
      "execution_count": 0,
      "outputs": []
    },
    {
      "cell_type": "markdown",
      "metadata": {
        "id": "dSKdqvy4d3SJ",
        "colab_type": "text"
      },
      "source": [
        "defining file paths"
      ]
    },
    {
      "cell_type": "code",
      "metadata": {
        "id": "7PXQMofKd5Tm",
        "colab_type": "code",
        "colab": {
          "base_uri": "https://localhost:8080/",
          "height": 119
        },
        "outputId": "e9110784-1726-4a40-9d4d-1ed3b0adbe77"
      },
      "source": [
        "from pathlib import Path\n",
        "\n",
        "train_files = 'chest_xray/train'\n",
        "test_files = 'chest_xray/test'\n",
        "val_files = 'chest_xray/val'\n",
        "\n",
        "CLASSES = ['PNEUMONIA','NORMAL']\n",
        "def countFiles(path,categories):\n",
        "  for cat in categories:\n",
        "    folder = Path(path + \"/\" + cat + \"/\")\n",
        "    tmp = list(folder.glob(\"*.jpeg\"))\n",
        "    print(path, \"     \", cat, \" : \" ,len(tmp))\n",
        "  return\n",
        "\n",
        "countFiles(train_files,CLASSES)\n",
        "countFiles(test_files,CLASSES)\n",
        "countFiles(val_files,CLASSES)\n"
      ],
      "execution_count": 52,
      "outputs": [
        {
          "output_type": "stream",
          "text": [
            "chest_xray/train       PNEUMONIA  :  3875\n",
            "chest_xray/train       NORMAL  :  1341\n",
            "chest_xray/test       PNEUMONIA  :  390\n",
            "chest_xray/test       NORMAL  :  234\n",
            "chest_xray/val       PNEUMONIA  :  8\n",
            "chest_xray/val       NORMAL  :  8\n"
          ],
          "name": "stdout"
        }
      ]
    },
    {
      "cell_type": "markdown",
      "metadata": {
        "id": "nK_MbzS5jxsA",
        "colab_type": "text"
      },
      "source": [
        "pre-processing data for the model using ImageDataGenerator"
      ]
    },
    {
      "cell_type": "code",
      "metadata": {
        "id": "6aw70k07jw3P",
        "colab_type": "code",
        "colab": {}
      },
      "source": [
        "import tensorflow as tf\n",
        "from tensorflow.keras.preprocessing.image import ImageDataGenerator\n",
        "tf.enable_eager_execution()\n",
        "AUTO = tf.data.experimental.AUTOTUNE\n",
        "\n",
        "img_gen = ImageDataGenerator(featurewise_center = True,\n",
        "                              shear_range = 0.2,\n",
        "                              rescale = 1.0/255,\n",
        "                              horizontal_flip = True)\n",
        "\n"
      ],
      "execution_count": 0,
      "outputs": []
    },
    {
      "cell_type": "code",
      "metadata": {
        "id": "HXHGsfaMmBOr",
        "colab_type": "code",
        "colab": {
          "base_uri": "https://localhost:8080/",
          "height": 68
        },
        "outputId": "ba2053cb-8de0-4593-8318-5268d896f608"
      },
      "source": [
        "to_train = img_gen.flow_from_directory(train_files, \n",
        "                                        target_size = (150, 150),\n",
        "                                        classes = CLASSES,\n",
        "                                        batch_size = 256, \n",
        "                                        shuffle = True, \n",
        "                                        class_mode = \"binary\")\n",
        "to_test = img_gen.flow_from_directory(test_files, \n",
        "                                        target_size = (150, 150),\n",
        "                                        classes = CLASSES,\n",
        "                                        batch_size = 256, \n",
        "                                        shuffle = True, \n",
        "                                        class_mode = \"binary\")\n",
        "to_val = img_gen.flow_from_directory(val_files, \n",
        "                                        target_size = (150, 150),\n",
        "                                        classes = CLASSES,\n",
        "                                        batch_size = 256, \n",
        "                                        shuffle = True, \n",
        "                                        class_mode = \"binary\")\n"
      ],
      "execution_count": 62,
      "outputs": [
        {
          "output_type": "stream",
          "text": [
            "Found 5216 images belonging to 2 classes.\n",
            "Found 624 images belonging to 2 classes.\n",
            "Found 16 images belonging to 2 classes.\n"
          ],
          "name": "stdout"
        }
      ]
    },
    {
      "cell_type": "code",
      "metadata": {
        "id": "m1026_3s3-HB",
        "colab_type": "code",
        "colab": {}
      },
      "source": [
        "from sklearn.utils.class_weight import compute_class_weight\n",
        "\n",
        "y = to_train.classes\n",
        "labels = np.unique(y)\n",
        "\n",
        "train_class_weights = compute_class_weight(\"balanced\", labels, y)"
      ],
      "execution_count": 0,
      "outputs": []
    },
    {
      "cell_type": "markdown",
      "metadata": {
        "id": "8W4PZJ6lyV32",
        "colab_type": "text"
      },
      "source": [
        "#Machine learning"
      ]
    },
    {
      "cell_type": "code",
      "metadata": {
        "id": "MjJInKWOyji-",
        "colab_type": "code",
        "colab": {}
      },
      "source": [
        "from tensorflow.keras.layers import Conv2D, Activation, MaxPooling2D, Dropout, GlobalAveragePooling1D, GlobalAveragePooling2D, Flatten, BatchNormalization, Dense\n",
        "\n",
        "from tensorflow.keras.models import Sequential, load_model, save_model\n",
        "from tensorflow.keras.applications.inception_v3 import InceptionV3\n",
        "from tensorflow.keras.optimizers import RMSprop\n"
      ],
      "execution_count": 0,
      "outputs": []
    },
    {
      "cell_type": "code",
      "metadata": {
        "id": "xOesFed4ypjf",
        "colab_type": "code",
        "colab": {
          "base_uri": "https://localhost:8080/",
          "height": 527
        },
        "outputId": "12d835dc-4be7-49a4-f3f9-5df5bca08829"
      },
      "source": [
        "model = InceptionV3(weights = \"imagenet\", include_top = False, input_shape = (150, 150, 3))\n",
        "model.trainable = False \n",
        "\n",
        "xray_model = Sequential([model,\n",
        "                      GlobalAveragePooling2D(),\n",
        "                      Dense(1024, activation = \"relu\"),\n",
        "                      Dropout(0.3),\n",
        "                      Dense(512, activation = \"relu\"),\n",
        "                      Dropout(0.3),\n",
        "                      Dense(256, activation = \"relu\"),\n",
        "                      Dropout(0.3),\n",
        "                      Dense(128, activation = \"relu\"),\n",
        "                      Dropout(0.3),\n",
        "                      Dense(1, activation = \"sigmoid\")])\n",
        "\n",
        "xray_model.compile(RMSprop(), loss = \"binary_crossentropy\", metrics = [\"accuracy\"])\n",
        "xray_model.summary()"
      ],
      "execution_count": 73,
      "outputs": [
        {
          "output_type": "stream",
          "text": [
            "Model: \"sequential_2\"\n",
            "_________________________________________________________________\n",
            "Layer (type)                 Output Shape              Param #   \n",
            "=================================================================\n",
            "inception_v3 (Model)         (None, 3, 3, 2048)        21802784  \n",
            "_________________________________________________________________\n",
            "global_average_pooling2d_2 ( (None, 2048)              0         \n",
            "_________________________________________________________________\n",
            "dense_10 (Dense)             (None, 1024)              2098176   \n",
            "_________________________________________________________________\n",
            "dropout_8 (Dropout)          (None, 1024)              0         \n",
            "_________________________________________________________________\n",
            "dense_11 (Dense)             (None, 512)               524800    \n",
            "_________________________________________________________________\n",
            "dropout_9 (Dropout)          (None, 512)               0         \n",
            "_________________________________________________________________\n",
            "dense_12 (Dense)             (None, 256)               131328    \n",
            "_________________________________________________________________\n",
            "dropout_10 (Dropout)         (None, 256)               0         \n",
            "_________________________________________________________________\n",
            "dense_13 (Dense)             (None, 128)               32896     \n",
            "_________________________________________________________________\n",
            "dropout_11 (Dropout)         (None, 128)               0         \n",
            "_________________________________________________________________\n",
            "dense_14 (Dense)             (None, 1)                 129       \n",
            "=================================================================\n",
            "Total params: 24,590,113\n",
            "Trainable params: 2,787,329\n",
            "Non-trainable params: 21,802,784\n",
            "_________________________________________________________________\n"
          ],
          "name": "stdout"
        }
      ]
    }
  ]
}