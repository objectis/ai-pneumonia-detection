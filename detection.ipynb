{
  "nbformat": 4,
  "nbformat_minor": 0,
  "metadata": {
    "colab": {
      "name": "detection.ipynb",
      "provenance": [],
      "toc_visible": true,
      "include_colab_link": true
    },
    "kernelspec": {
      "name": "python3",
      "display_name": "Python 3"
    }
  },
  "cells": [
    {
      "cell_type": "markdown",
      "metadata": {
        "id": "view-in-github",
        "colab_type": "text"
      },
      "source": [
        "<a href=\"https://colab.research.google.com/github/objectis/ai-pneumonia-detection/blob/master/detection.ipynb\" target=\"_parent\"><img src=\"https://colab.research.google.com/assets/colab-badge.svg\" alt=\"Open In Colab\"/></a>"
      ]
    },
    {
      "cell_type": "markdown",
      "metadata": {
        "id": "vNACCoGpUjmG",
        "colab_type": "text"
      },
      "source": [
        "#Importing images"
      ]
    },
    {
      "cell_type": "code",
      "metadata": {
        "id": "xjqlHtYUWPSJ",
        "colab_type": "code",
        "colab": {}
      },
      "source": [
        "import os\n",
        "import cv2\n",
        "import pickle\n",
        "import random\n",
        "import numpy as np\n",
        "import matplotlib.pyplot as plt"
      ],
      "execution_count": 0,
      "outputs": []
    },
    {
      "cell_type": "code",
      "metadata": {
        "id": "Hc73QWtlXu8O",
        "colab_type": "code",
        "colab": {
          "base_uri": "https://localhost:8080/",
          "height": 68
        },
        "outputId": "19069b6f-c526-47e9-9d0a-daf643805798"
      },
      "source": [
        "os.environ['KAGGLE_USERNAME'] = \"xxx\" \n",
        "os.environ['KAGGLE_KEY'] = \"xxx\" \n",
        "!kaggle datasets download -d paultimothymooney/chest-xray-pneumonia"
      ],
      "execution_count": 10,
      "outputs": [
        {
          "output_type": "stream",
          "text": [
            "Downloading chest-xray-pneumonia.zip to /content\n",
            "100% 1.15G/1.15G [00:09<00:00, 150MB/s]\n",
            "100% 1.15G/1.15G [00:09<00:00, 132MB/s]\n"
          ],
          "name": "stdout"
        }
      ]
    },
    {
      "cell_type": "markdown",
      "metadata": {
        "id": "uBlj4-usYVF_",
        "colab_type": "text"
      },
      "source": [
        "Extracting downloaded images"
      ]
    },
    {
      "cell_type": "code",
      "metadata": {
        "id": "edM6GoS_YQAO",
        "colab_type": "code",
        "colab": {}
      },
      "source": [
        "from zipfile import ZipFile\n",
        "\n",
        "zfile = ZipFile('chest_xray.zip', 'r')\n",
        "zfile.extractall()\n",
        "zfile.close()"
      ],
      "execution_count": 0,
      "outputs": []
    },
    {
      "cell_type": "markdown",
      "metadata": {
        "id": "dSKdqvy4d3SJ",
        "colab_type": "text"
      },
      "source": [
        "defining file paths"
      ]
    },
    {
      "cell_type": "code",
      "metadata": {
        "id": "7PXQMofKd5Tm",
        "colab_type": "code",
        "colab": {}
      },
      "source": [
        ""
      ],
      "execution_count": 0,
      "outputs": []
    }
  ]
}