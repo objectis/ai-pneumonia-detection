{
  "nbformat": 4,
  "nbformat_minor": 0,
  "metadata": {
    "colab": {
      "name": "detection.ipynb",
      "provenance": [],
      "collapsed_sections": [],
      "toc_visible": true,
      "include_colab_link": true
    },
    "kernelspec": {
      "name": "python3",
      "display_name": "Python 3"
    }
  },
  "cells": [
    {
      "cell_type": "markdown",
      "metadata": {
        "id": "view-in-github",
        "colab_type": "text"
      },
      "source": [
        "<a href=\"https://colab.research.google.com/github/objectis/ai-pneumonia-detection/blob/master/detection.ipynb\" target=\"_parent\"><img src=\"https://colab.research.google.com/assets/colab-badge.svg\" alt=\"Open In Colab\"/></a>"
      ]
    },
    {
      "cell_type": "markdown",
      "metadata": {
        "id": "vNACCoGpUjmG",
        "colab_type": "text"
      },
      "source": [
        "#Importing images"
      ]
    },
    {
      "cell_type": "code",
      "metadata": {
        "id": "xjqlHtYUWPSJ",
        "colab_type": "code",
        "colab": {}
      },
      "source": [
        "import os\n",
        "import cv2\n",
        "import pickle\n",
        "import random\n",
        "import numpy as np\n",
        "import matplotlib.pyplot as plt"
      ],
      "execution_count": 0,
      "outputs": []
    },
    {
      "cell_type": "code",
      "metadata": {
        "id": "Hc73QWtlXu8O",
        "colab_type": "code",
        "colab": {
          "base_uri": "https://localhost:8080/",
          "height": 72
        },
        "outputId": "19069b6f-c526-47e9-9d0a-daf643805798"
      },
      "source": [
        "os.environ['KAGGLE_USERNAME'] = \"xxx\" \n",
        "os.environ['KAGGLE_KEY'] = \"xxx\" \n",
        "!kaggle datasets download -d paultimothymooney/chest-xray-pneumonia"
      ],
      "execution_count": 10,
      "outputs": [
        {
          "output_type": "stream",
          "text": [
            "Downloading chest-xray-pneumonia.zip to /content\n",
            "100% 1.15G/1.15G [00:09<00:00, 150MB/s]\n",
            "100% 1.15G/1.15G [00:09<00:00, 132MB/s]\n"
          ],
          "name": "stdout"
        }
      ]
    },
    {
      "cell_type": "markdown",
      "metadata": {
        "id": "uBlj4-usYVF_",
        "colab_type": "text"
      },
      "source": [
        "Extracting downloaded images"
      ]
    },
    {
      "cell_type": "code",
      "metadata": {
        "id": "edM6GoS_YQAO",
        "colab_type": "code",
        "colab": {}
      },
      "source": [
        "from zipfile import ZipFile\n",
        "\n",
        "zfile = ZipFile('chest_xray.zip', 'r')\n",
        "zfile.extractall()\n",
        "zfile.close()"
      ],
      "execution_count": 0,
      "outputs": []
    },
    {
      "cell_type": "markdown",
      "metadata": {
        "id": "dSKdqvy4d3SJ",
        "colab_type": "text"
      },
      "source": [
        "defining file paths"
      ]
    },
    {
      "cell_type": "code",
      "metadata": {
        "id": "7PXQMofKd5Tm",
        "colab_type": "code",
        "colab": {
          "base_uri": "https://localhost:8080/",
          "height": 126
        },
        "outputId": "e9110784-1726-4a40-9d4d-1ed3b0adbe77"
      },
      "source": [
        "from pathlib import Path\n",
        "\n",
        "train_files = 'chest_xray/train'\n",
        "test_files = 'chest_xray/test'\n",
        "val_files = 'chest_xray/val'\n",
        "\n",
        "CLASSES = ['PNEUMONIA','NORMAL']\n",
        "def countFiles(path,categories):\n",
        "  for cat in categories:\n",
        "    folder = Path(path + \"/\" + cat + \"/\")\n",
        "    tmp = list(folder.glob(\"*.jpeg\"))\n",
        "    print(path, \"     \", cat, \" : \" ,len(tmp))\n",
        "  return\n",
        "\n",
        "countFiles(train_files,CLASSES)\n",
        "countFiles(test_files,CLASSES)\n",
        "countFiles(val_files,CLASSES)\n"
      ],
      "execution_count": 52,
      "outputs": [
        {
          "output_type": "stream",
          "text": [
            "chest_xray/train       PNEUMONIA  :  3875\n",
            "chest_xray/train       NORMAL  :  1341\n",
            "chest_xray/test       PNEUMONIA  :  390\n",
            "chest_xray/test       NORMAL  :  234\n",
            "chest_xray/val       PNEUMONIA  :  8\n",
            "chest_xray/val       NORMAL  :  8\n"
          ],
          "name": "stdout"
        }
      ]
    },
    {
      "cell_type": "markdown",
      "metadata": {
        "id": "nK_MbzS5jxsA",
        "colab_type": "text"
      },
      "source": [
        "pre-processing data for the model using ImageDataGenerator"
      ]
    },
    {
      "cell_type": "code",
      "metadata": {
        "id": "6aw70k07jw3P",
        "colab_type": "code",
        "colab": {}
      },
      "source": [
        "import tensorflow as tf\n",
        "from tensorflow.keras.preprocessing.image import ImageDataGenerator\n",
        "tf.enable_eager_execution()\n",
        "AUTO = tf.data.experimental.AUTOTUNE\n",
        "\n",
        "img_gen = ImageDataGenerator( shear_range = 0.2,\n",
        "                              rescale = 1.0/255,\n",
        "                              horizontal_flip = True)\n",
        "\n"
      ],
      "execution_count": 0,
      "outputs": []
    },
    {
      "cell_type": "code",
      "metadata": {
        "id": "HXHGsfaMmBOr",
        "colab_type": "code",
        "colab": {
          "base_uri": "https://localhost:8080/",
          "height": 72
        },
        "outputId": "af90a3d7-064f-4284-b478-dfecc9dfbe8c"
      },
      "source": [
        "to_train = img_gen.flow_from_directory(train_files, \n",
        "                                        target_size = (150, 150),\n",
        "                                        classes = CLASSES,\n",
        "                                        batch_size = 256, \n",
        "                                        shuffle = True, \n",
        "                                        class_mode = \"binary\")\n",
        "to_test = img_gen.flow_from_directory(test_files, \n",
        "                                        target_size = (150, 150),\n",
        "                                        classes = CLASSES,\n",
        "                                        batch_size = 256, \n",
        "                                        shuffle = True, \n",
        "                                        class_mode = \"binary\")\n",
        "to_val = img_gen.flow_from_directory(val_files, \n",
        "                                        target_size = (150, 150),\n",
        "                                        classes = CLASSES,\n",
        "                                        batch_size = 256, \n",
        "                                        shuffle = True, \n",
        "                                        class_mode = \"binary\")\n"
      ],
      "execution_count": 76,
      "outputs": [
        {
          "output_type": "stream",
          "text": [
            "Found 5216 images belonging to 2 classes.\n",
            "Found 624 images belonging to 2 classes.\n",
            "Found 16 images belonging to 2 classes.\n"
          ],
          "name": "stdout"
        }
      ]
    },
    {
      "cell_type": "code",
      "metadata": {
        "id": "m1026_3s3-HB",
        "colab_type": "code",
        "colab": {}
      },
      "source": [
        "from sklearn.utils.class_weight import compute_class_weight\n",
        "\n",
        "y = to_train.classes\n",
        "labels = np.unique(y)\n",
        "\n",
        "train_class_weights = compute_class_weight(\"balanced\", labels, y)"
      ],
      "execution_count": 0,
      "outputs": []
    },
    {
      "cell_type": "markdown",
      "metadata": {
        "id": "8W4PZJ6lyV32",
        "colab_type": "text"
      },
      "source": [
        "#Machine learning"
      ]
    },
    {
      "cell_type": "code",
      "metadata": {
        "id": "MjJInKWOyji-",
        "colab_type": "code",
        "colab": {}
      },
      "source": [
        "from tensorflow.keras.layers import Conv2D, Activation, MaxPooling2D, Dropout, GlobalAveragePooling1D, GlobalAveragePooling2D, Flatten, BatchNormalization, Dense\n",
        "\n",
        "from tensorflow.keras.models import Sequential, load_model, save_model\n",
        "from tensorflow.keras.applications.inception_v3 import InceptionV3\n",
        "from tensorflow.keras.optimizers import RMSprop\n"
      ],
      "execution_count": 0,
      "outputs": []
    },
    {
      "cell_type": "markdown",
      "metadata": {
        "id": "57-SMQuF8Kek",
        "colab_type": "text"
      },
      "source": [
        "creating our own model on top of imagenet to work as classifier for xray lungs images"
      ]
    },
    {
      "cell_type": "code",
      "metadata": {
        "id": "xOesFed4ypjf",
        "colab_type": "code",
        "colab": {
          "base_uri": "https://localhost:8080/",
          "height": 563
        },
        "outputId": "3c9c1660-dd4f-4511-b65a-05515be8ce6e"
      },
      "source": [
        "model = InceptionV3(weights = \"imagenet\", include_top = False, input_shape = (150, 150, 3))\n",
        "model.trainable = False \n",
        "\n",
        "xray_model = Sequential([model,\n",
        "                      GlobalAveragePooling2D(),\n",
        "                      Dense(1024, activation = \"relu\"),\n",
        "                      Dropout(0.3),\n",
        "                      Dense(512, activation = \"relu\"),\n",
        "                      Dropout(0.3),\n",
        "                      Dense(256, activation = \"relu\"),\n",
        "                      Dropout(0.3),\n",
        "                      Dense(128, activation = \"relu\"),\n",
        "                      Dropout(0.3),\n",
        "                      Dense(1, activation = \"sigmoid\")])\n",
        "\n",
        "xray_model.compile(RMSprop(), loss = \"binary_crossentropy\", metrics = [\"accuracy\"])\n",
        "xray_model.summary()"
      ],
      "execution_count": 79,
      "outputs": [
        {
          "output_type": "stream",
          "text": [
            "Model: \"sequential_3\"\n",
            "_________________________________________________________________\n",
            "Layer (type)                 Output Shape              Param #   \n",
            "=================================================================\n",
            "inception_v3 (Model)         (None, 3, 3, 2048)        21802784  \n",
            "_________________________________________________________________\n",
            "global_average_pooling2d_3 ( (None, 2048)              0         \n",
            "_________________________________________________________________\n",
            "dense_15 (Dense)             (None, 1024)              2098176   \n",
            "_________________________________________________________________\n",
            "dropout_12 (Dropout)         (None, 1024)              0         \n",
            "_________________________________________________________________\n",
            "dense_16 (Dense)             (None, 512)               524800    \n",
            "_________________________________________________________________\n",
            "dropout_13 (Dropout)         (None, 512)               0         \n",
            "_________________________________________________________________\n",
            "dense_17 (Dense)             (None, 256)               131328    \n",
            "_________________________________________________________________\n",
            "dropout_14 (Dropout)         (None, 256)               0         \n",
            "_________________________________________________________________\n",
            "dense_18 (Dense)             (None, 128)               32896     \n",
            "_________________________________________________________________\n",
            "dropout_15 (Dropout)         (None, 128)               0         \n",
            "_________________________________________________________________\n",
            "dense_19 (Dense)             (None, 1)                 129       \n",
            "=================================================================\n",
            "Total params: 24,590,113\n",
            "Trainable params: 2,787,329\n",
            "Non-trainable params: 21,802,784\n",
            "_________________________________________________________________\n"
          ],
          "name": "stdout"
        }
      ]
    },
    {
      "cell_type": "markdown",
      "metadata": {
        "id": "ptxRzSql775N",
        "colab_type": "text"
      },
      "source": [
        "now training the model"
      ]
    },
    {
      "cell_type": "code",
      "metadata": {
        "id": "vzb_IREk8Bzm",
        "colab_type": "code",
        "colab": {
          "base_uri": "https://localhost:8080/",
          "height": 455
        },
        "outputId": "8d79bca2-b339-4296-e96d-92fd4200c38d"
      },
      "source": [
        "trained_model = xray_model.fit_generator(to_train, \n",
        "                                steps_per_epoch = len(to_train),\n",
        "                                epochs = 10,\n",
        "                                verbose = 1,\n",
        "                                workers = 20,\n",
        "                                validation_data = to_test, \n",
        "                                validation_steps = len(to_test),\n",
        "                                class_weight = train_class_weights)"
      ],
      "execution_count": 80,
      "outputs": [
        {
          "output_type": "stream",
          "text": [
            "Epoch 1/10\n",
            "WARNING:tensorflow:From /usr/local/lib/python3.6/dist-packages/tensorflow/python/ops/math_grad.py:1250: add_dispatch_support.<locals>.wrapper (from tensorflow.python.ops.array_ops) is deprecated and will be removed in a future version.\n",
            "Instructions for updating:\n",
            "Use tf.where in 2.0, which has the same broadcast rule as np.where\n",
            "21/21 [==============================] - 435s 21s/step - loss: 1.1517 - acc: 0.7596 - val_loss: 2.5462 - val_acc: 0.6250\n",
            "Epoch 2/10\n",
            "21/21 [==============================] - 377s 18s/step - loss: 0.4864 - acc: 0.7784 - val_loss: 3.3140 - val_acc: 0.3750\n",
            "Epoch 3/10\n",
            "21/21 [==============================] - 380s 18s/step - loss: 0.3704 - acc: 0.8372 - val_loss: 1.1735 - val_acc: 0.6875\n",
            "Epoch 4/10\n",
            "21/21 [==============================] - 381s 18s/step - loss: 0.3130 - acc: 0.8673 - val_loss: 2.2661 - val_acc: 0.6250\n",
            "Epoch 5/10\n",
            "21/21 [==============================] - 379s 18s/step - loss: 0.2938 - acc: 0.8771 - val_loss: 0.7667 - val_acc: 0.6538\n",
            "Epoch 6/10\n",
            "21/21 [==============================] - 379s 18s/step - loss: 0.2394 - acc: 0.8967 - val_loss: 0.8513 - val_acc: 0.6779\n",
            "Epoch 7/10\n",
            "21/21 [==============================] - 381s 18s/step - loss: 0.2232 - acc: 0.9066 - val_loss: 4.0656 - val_acc: 0.6346\n",
            "Epoch 8/10\n",
            "21/21 [==============================] - 377s 18s/step - loss: 0.2690 - acc: 0.8844 - val_loss: 1.1370 - val_acc: 0.6410\n",
            "Epoch 9/10\n",
            "21/21 [==============================] - 378s 18s/step - loss: 0.2219 - acc: 0.9059 - val_loss: 1.1287 - val_acc: 0.7212\n",
            "Epoch 10/10\n",
            "21/21 [==============================] - 382s 18s/step - loss: 0.2265 - acc: 0.9074 - val_loss: 1.2038 - val_acc: 0.6939\n"
          ],
          "name": "stdout"
        }
      ]
    },
    {
      "cell_type": "markdown",
      "metadata": {
        "id": "FU2a6yXUMpQs",
        "colab_type": "text"
      },
      "source": [
        "visualizing training process"
      ]
    },
    {
      "cell_type": "code",
      "metadata": {
        "id": "RBDIS3xfMrWm",
        "colab_type": "code",
        "colab": {
          "base_uri": "https://localhost:8080/",
          "height": 35
        },
        "outputId": "e92c63b5-1892-4aa7-f98e-81a0428a1983"
      },
      "source": [
        "print(trained_model.history.keys())"
      ],
      "execution_count": 81,
      "outputs": [
        {
          "output_type": "stream",
          "text": [
            "dict_keys(['loss', 'acc', 'val_loss', 'val_acc'])\n"
          ],
          "name": "stdout"
        }
      ]
    },
    {
      "cell_type": "code",
      "metadata": {
        "id": "9e-kYXlhM21a",
        "colab_type": "code",
        "colab": {
          "base_uri": "https://localhost:8080/",
          "height": 755
        },
        "outputId": "dbd504fc-cf96-4470-c0ab-61e0f09d90d8"
      },
      "source": [
        "def display_training_curves(training, validation, title, subplot):\n",
        "  if subplot%10==1: # set up the subplots on the first call\n",
        "    plt.subplots(figsize=(10,10), facecolor='#F0F0F0')\n",
        "    plt.tight_layout()\n",
        "  ax = plt.subplot(subplot)\n",
        "  ax.set_facecolor('#F8F8F8')\n",
        "  ax.plot(training)\n",
        "  ax.plot(validation)\n",
        "  ax.set_title('model '+ title)\n",
        "  ax.set_ylabel(title)\n",
        "  ax.set_xlabel('epoch')\n",
        "  ax.legend(['train', 'valid.'])\n",
        "\n",
        "display_training_curves(trained_model.history['acc'], trained_model.history['val_acc'], 'accuracy', 211)\n",
        "display_training_curves(trained_model.history['loss'], trained_model.history['val_loss'], 'loss', 212)"
      ],
      "execution_count": 82,
      "outputs": [
        {
          "output_type": "display_data",
          "data": {
            "image/png": "[encoded data removed]",
            "text/plain": [
              "<Figure size 720x720 with 2 Axes>"
            ]
          },
          "metadata": {
            "tags": []
          }
        }
      ]
    },
    {
      "cell_type": "markdown",
      "metadata": {
        "id": "YuQb1tMgP7l1",
        "colab_type": "text"
      },
      "source": [
        "save the model"
      ]
    },
    {
      "cell_type": "code",
      "metadata": {
        "id": "FicziJa8P7As",
        "colab_type": "code",
        "colab": {}
      },
      "source": [
        "save_model(xray_model, \"xray_after_10_epochs\", overwrite = True, include_optimizer = True)"
      ],
      "execution_count": 0,
      "outputs": []
    },
    {
      "cell_type": "markdown",
      "metadata": {
        "id": "VKEryPSiPTow",
        "colab_type": "text"
      },
      "source": [
        "#Evaluate the results"
      ]
    },
    {
      "cell_type": "code",
      "metadata": {
        "id": "nMOZGKqcPWHz",
        "colab_type": "code",
        "colab": {
          "base_uri": "https://localhost:8080/",
          "height": 35
        },
        "outputId": "46b84d17-8ba3-41c1-cef3-12515a9aa920"
      },
      "source": [
        "y_pred = xray_model.predict_generator(to_val, steps=len(to_val), verbose=1)  \n",
        "y_pred = y_pred.argmax(axis=-1)\n",
        "y_true=to_val.classes"
      ],
      "execution_count": 87,
      "outputs": [
        {
          "output_type": "stream",
          "text": [
            "\r1/1 [==============================] - 4s 4s/step\n"
          ],
          "name": "stdout"
        }
      ]
    },
    {
      "cell_type": "code",
      "metadata": {
        "id": "TyiW1ZsbQFKN",
        "colab_type": "code",
        "colab": {
          "base_uri": "https://localhost:8080/",
          "height": 503
        },
        "outputId": "2bad9130-7abc-4102-8ed9-3d1c0e35c17f"
      },
      "source": [
        "from mlxtend.plotting import plot_confusion_matrix\n",
        "from sklearn.metrics import precision_score, recall_score, f1_score, roc_auc_score, confusion_matrix, classification_report\n",
        "\n",
        "CM = confusion_matrix(y_true, y_pred)\n",
        "fig, ax = plot_confusion_matrix(conf_mat=CM ,  figsize=(10,8), hide_ticks=True,cmap=plt.cm.Blues)\n",
        "plt.xticks(range(len(CLASSES)), CLASSES, fontsize=12)\n",
        "plt.yticks(range(len(CLASSES)), CLASSES, fontsize=12)\n",
        "plt.show()"
      ],
      "execution_count": 92,
      "outputs": [
        {
          "output_type": "display_data",
          "data": {
            "image/png": "[encoded data removed]",
            "text/plain": [
              "<Figure size 720x576 with 1 Axes>"
            ]
          },
          "metadata": {
            "tags": []
          }
        }
      ]
    },
    {
      "cell_type": "code",
      "metadata": {
        "id": "DN-VKAd1Qgey",
        "colab_type": "code",
        "colab": {}
      },
      "source": [
        ""
      ],
      "execution_count": 0,
      "outputs": []
    }
  ]
}